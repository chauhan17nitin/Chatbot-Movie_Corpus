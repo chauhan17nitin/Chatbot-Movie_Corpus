{
  "nbformat": 4,
  "nbformat_minor": 0,
  "metadata": {
    "colab": {
      "name": "Chatbot.ipynb",
      "provenance": [],
      "collapsed_sections": [],
      "authorship_tag": "ABX9TyOXBoUKPrdEQMLV/oco3H+M"
    },
    "kernelspec": {
      "name": "python3",
      "display_name": "Python 3"
    }
  },
  "cells": [
    {
      "cell_type": "code",
      "metadata": {
        "id": "8SV1AD2ViUc3",
        "colab_type": "code",
        "colab": {
          "base_uri": "https://localhost:8080/",
          "height": 126
        },
        "outputId": "b886b3da-213f-4f97-8599-af15abe466d7"
      },
      "source": [
        "from google.colab import drive\n",
        "drive.mount('/content/drive')"
      ],
      "execution_count": 1,
      "outputs": [
        {
          "output_type": "stream",
          "text": [
            "Go to this URL in a browser: https://accounts.google.com/o/oauth2/auth?client_id=947318989803-6bn6qk8qdgf4n4g3pfee6491hc0brc4i.apps.googleusercontent.com&redirect_uri=urn%3aietf%3awg%3aoauth%3a2.0%3aoob&response_type=code&scope=email%20https%3a%2f%2fwww.googleapis.com%2fauth%2fdocs.test%20https%3a%2f%2fwww.googleapis.com%2fauth%2fdrive%20https%3a%2f%2fwww.googleapis.com%2fauth%2fdrive.photos.readonly%20https%3a%2f%2fwww.googleapis.com%2fauth%2fpeopleapi.readonly\n",
            "\n",
            "Enter your authorization code:\n",
            "··········\n",
            "Mounted at /content/drive\n"
          ],
          "name": "stdout"
        }
      ]
    },
    {
      "cell_type": "code",
      "metadata": {
        "id": "gAIAueJEiojp",
        "colab_type": "code",
        "colab": {
          "base_uri": "https://localhost:8080/",
          "height": 35
        },
        "outputId": "15b15bfe-3b3c-415d-f340-bf00de13753e"
      },
      "source": [
        "import os\n",
        "os.chdir('/content/drive/My Drive/Kaggle/Chatbot')\n",
        "!ls"
      ],
      "execution_count": 2,
      "outputs": [
        {
          "output_type": "stream",
          "text": [
            " Chatbot.ipynb\t'cornell movie-dialogs corpus'\t Cornell_movie_quotes_corpus\n"
          ],
          "name": "stdout"
        }
      ]
    },
    {
      "cell_type": "code",
      "metadata": {
        "id": "KKQYn-au-9IN",
        "colab_type": "code",
        "colab": {}
      },
      "source": [
        "from __future__ import absolute_import\n",
        "from __future__ import division\n",
        "from __future__ import print_function\n",
        "from __future__ import unicode_literals\n",
        "\n",
        "import torch\n",
        "from torch.jit import script, trace\n",
        "import torch.nn as nn\n",
        "from torch import optim\n",
        "import torch.nn.functional as F\n",
        "import csv\n",
        "import random\n",
        "import re\n",
        "import os\n",
        "import unicodedata\n",
        "import codecs\n",
        "from io import open\n",
        "import itertools\n",
        "import math"
      ],
      "execution_count": 0,
      "outputs": []
    },
    {
      "cell_type": "code",
      "metadata": {
        "id": "zXnf-uIaix7a",
        "colab_type": "code",
        "colab": {
          "base_uri": "https://localhost:8080/",
          "height": 195
        },
        "outputId": "f4477c6f-aa43-4d1c-fbfa-4496e70ddd3d"
      },
      "source": [
        "corpus_name = \"cornell movie-dialogs corpus\"\n",
        "corpus = os.path.join(\"\", corpus_name)\n",
        "\n",
        "def print_line(file, n = 10):\n",
        "  with open(file, 'rb') as datafile:\n",
        "    lines = datafile.readlines()\n",
        "  for line in lines[:n]:\n",
        "    print(line)\n",
        "\n",
        "print_line(os.path.join(corpus, \"movie_lines.txt\"))"
      ],
      "execution_count": 4,
      "outputs": [
        {
          "output_type": "stream",
          "text": [
            "b'L1045 +++$+++ u0 +++$+++ m0 +++$+++ BIANCA +++$+++ They do not!\\n'\n",
            "b'L1044 +++$+++ u2 +++$+++ m0 +++$+++ CAMERON +++$+++ They do to!\\n'\n",
            "b'L985 +++$+++ u0 +++$+++ m0 +++$+++ BIANCA +++$+++ I hope so.\\n'\n",
            "b'L984 +++$+++ u2 +++$+++ m0 +++$+++ CAMERON +++$+++ She okay?\\n'\n",
            "b\"L925 +++$+++ u0 +++$+++ m0 +++$+++ BIANCA +++$+++ Let's go.\\n\"\n",
            "b'L924 +++$+++ u2 +++$+++ m0 +++$+++ CAMERON +++$+++ Wow\\n'\n",
            "b\"L872 +++$+++ u0 +++$+++ m0 +++$+++ BIANCA +++$+++ Okay -- you're gonna need to learn how to lie.\\n\"\n",
            "b'L871 +++$+++ u2 +++$+++ m0 +++$+++ CAMERON +++$+++ No\\n'\n",
            "b'L870 +++$+++ u0 +++$+++ m0 +++$+++ BIANCA +++$+++ I\\'m kidding.  You know how sometimes you just become this \"persona\"?  And you don\\'t know how to quit?\\n'\n",
            "b'L869 +++$+++ u0 +++$+++ m0 +++$+++ BIANCA +++$+++ Like my fear of wearing pastels?\\n'\n"
          ],
          "name": "stdout"
        }
      ]
    },
    {
      "cell_type": "code",
      "metadata": {
        "id": "WeWO-FJWkOFK",
        "colab_type": "code",
        "colab": {
          "base_uri": "https://localhost:8080/",
          "height": 35
        },
        "outputId": "c41420db-9156-4012-c893-d8707a6d488f"
      },
      "source": [
        "def loadlines(fileName, fields):\n",
        "  lines = {}\n",
        "  with open(fileName, 'r', encoding='iso-8859-1') as f:\n",
        "    for line in f:\n",
        "      values = line.split(\"+++$+++\")\n",
        "      lineObj = {}\n",
        "\n",
        "      for i, field in enumerate(fields):\n",
        "        lineObj[field] = values[i]\n",
        "\n",
        "      lines[lineObj['lineID']] = lineObj\n",
        "  return lines"
      ],
      "execution_count": 5,
      "outputs": [
        {
          "output_type": "execute_result",
          "data": {
            "text/plain": [
              "'cornell movie-dialogs corpus'"
            ]
          },
          "metadata": {
            "tags": []
          },
          "execution_count": 5
        }
      ]
    },
    {
      "cell_type": "code",
      "metadata": {
        "id": "Thni9HfYr6VY",
        "colab_type": "code",
        "colab": {}
      },
      "source": [
        "def loadConversations(fileName, lines, fields):\n",
        "  conversations = []\n",
        "  with open(fileName, 'r', encoding='iso-8859-1') as f:\n",
        "    for line in f:\n",
        "      values = line.split(\"+++$+++\")\n",
        "\n",
        "      convObj = {}\n",
        "      for i, field in enumerate(fields):\n",
        "        convObj[field] = values[i]\n",
        "      \n",
        "      utterrance_id_pattern = re.compile('L[0-9]+')\n",
        "      lineIds = utterance_id_pattern.findall(convObj[\"utteranceIDs\"])\n",
        "\n",
        "      convObj[\"lines\"] = []\n",
        "\n",
        "      for lineId in lineIds:\n",
        "        convObj[\"lines\"].append(lines[\"lineId\"])\n",
        "      conversations.append(convObj)\n",
        "  return conversations"
      ],
      "execution_count": 0,
      "outputs": []
    },
    {
      "cell_type": "code",
      "metadata": {
        "id": "t-jDYkbt0dBq",
        "colab_type": "code",
        "colab": {}
      },
      "source": [
        "def extractSentencePairs(conversations):\n",
        "  qa_pairs = []\n",
        "  for conversation in conversations:\n",
        "    # Iterate over all lines of the conversations\n",
        "    for i in range(len(conversation['lines']) - 1):\n",
        "      inputLine = conversation[\"lines\"][i][\"text\"].strip()\n",
        "      targetLine = conversation[\"lines\"][i+1][\"text\"].strip()\n",
        "\n",
        "      if inputLine and targetLine:\n",
        "        qa_pairs.append([inputLine, targetLine])\n",
        "  return qa_pairs"
      ],
      "execution_count": 0,
      "outputs": []
    },
    {
      "cell_type": "code",
      "metadata": {
        "id": "59uzCUYO-cOD",
        "colab_type": "code",
        "colab": {}
      },
      "source": [
        "datafile = os.path.join(corpus, \"formatted_movie_lines.txt\")\n",
        "\n",
        "delimeter = '\\t'\n",
        "\n",
        "delimiter = str(codecs.decode(delimiter, \"unicode_escape\"))"
      ],
      "execution_count": 0,
      "outputs": []
    }
  ]
}